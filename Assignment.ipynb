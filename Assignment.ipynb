{
 "cells": [
  {
   "cell_type": "markdown",
   "id": "2085050a",
   "metadata": {},
   "source": [
    "# Module : 1 (SDLC)"
   ]
  },
  {
   "cell_type": "markdown",
   "id": "e96a43e1",
   "metadata": {},
   "source": [
    " 1. What is Software?\n",
    " \n",
    " Ans : Software refers to a set of instruction and data that enable a computer system to perform specific tasks or functions.\n",
    "       it encompasses programs, scripts, and applications that run on various devices. \n",
    "       Software drives hardware, allowing users to interact with computers, smartphones, and other digital devices, \n",
    "       enabling them to accomplish diverse tasks."
   ]
  },
  {
   "cell_type": "markdown",
   "id": "69a83b0e",
   "metadata": {},
   "source": [
    " 2. Whats are the types of Application?\n",
    " \n",
    " Ans : 1.\tDesktop Applications\n",
    "       2.\tWeb Applications\n",
    "       3.\tData Analysis and Visualization\n",
    "       4.\tMachine Learning and Artificial Intelligence\n",
    "       5.\tGame Development\n",
    "       6.\tNetwork Applications\n",
    "       7.\tAutomation Scripts\n",
    "       8.\tMobile Applications.\n"
   ]
  },
  {
   "cell_type": "markdown",
   "id": "2191a6da",
   "metadata": {},
   "source": [
    "3. What is Programming?\n",
    "\n",
    "Ans : Python is an object-oriented scripting language that was released publicly\n",
    "      in 1991. Python is high-level, versatile programming language known for its simplicity and readability.\n",
    "      Python support multiple paradigms and offers extensive libraries, enabling developers to create\n",
    "      application ranging from web development and scientific computing to artificial intelligence."
   ]
  },
  {
   "cell_type": "markdown",
   "id": "72e0becf",
   "metadata": {},
   "source": [
    " 4. What is Python?\n",
    "    \n",
    "Ans : Python is an object-oriented scripting language that was released publicly in 1991.\n",
    "    Python is high-level, versatile programming language known for its simplicity and readability.\n",
    "    Python supports multiple paradigms and offers extensive libraries, enabling developers to ceate applications\n",
    "    ranging from web development and scientific computing to artificial intelligence."
   ]
  },
  {
   "cell_type": "markdown",
   "id": "7cca9fe9",
   "metadata": {},
   "source": [
    "# Module-2 (Fundamentals of Python)"
   ]
  },
  {
   "cell_type": "code",
   "execution_count": 2,
   "id": "2b0e604a",
   "metadata": {},
   "outputs": [
    {
     "name": "stdout",
     "output_type": "stream",
     "text": [
      "Enter the number : -5\n",
      "Number is Negative\n"
     ]
    }
   ],
   "source": [
    "# 4. Write a Python program to check if a number is positive,negative or zero.\n",
    "\n",
    "num = int(input(\"Enter the number : \"))\n",
    "\n",
    "if(num>0):\n",
    "    print(\"Number is Positive\")\n",
    "elif(num<0):\n",
    "    print(\"Number is Negative\")\n",
    "else:\n",
    "    print(\"Zero\")"
   ]
  },
  {
   "cell_type": "code",
   "execution_count": 6,
   "id": "2a8803a3",
   "metadata": {},
   "outputs": [],
   "source": [
    "from math import factorial"
   ]
  },
  {
   "cell_type": "code",
   "execution_count": 12,
   "id": "7daa9382",
   "metadata": {},
   "outputs": [
    {
     "name": "stdout",
     "output_type": "stream",
     "text": [
      "Enter the number : 5\n",
      "Factorial of given number is :  120\n"
     ]
    }
   ],
   "source": [
    "# 5. Write a python program to get the Factorial number of given number.\n",
    "\n",
    "num = int(input(\"Enter the number : \"))\n",
    "\n",
    "fact = 1\n",
    "i = 1\n",
    "while(i<=num):\n",
    "    fact = fact * i\n",
    "    i = i + 1\n",
    "print(f'Factorial of given number is : ',fact)"
   ]
  },
  {
   "cell_type": "code",
   "execution_count": 13,
   "id": "e48d2ca7",
   "metadata": {},
   "outputs": [
    {
     "name": "stdout",
     "output_type": "stream",
     "text": [
      "1 2 3 5 8 13 21 34 55 "
     ]
    }
   ],
   "source": [
    "# 6.write a python program to get Fibonacci series of given range.\n",
    "n1 = 0\n",
    "n2 = 1\n",
    "n3 = 0\n",
    "while(n3<=50):\n",
    "    n3 = n1 + n2\n",
    "    print(n3,end=\" \")\n",
    "    n1 = n2\n",
    "    n2 = n3"
   ]
  },
  {
   "cell_type": "markdown",
   "id": "3e73804f",
   "metadata": {},
   "source": [
    "7.How memory is managed in Python?\n",
    "\n",
    "Ans : According to the Python memory management documentation,Python has a private heap\n",
    "    that stores our program's objects and data structures.Python memory manager takes care of the bulk \n",
    "    of the memory management work and allows us to concentrate on our code."
   ]
  },
  {
   "cell_type": "markdown",
   "id": "ce689d60",
   "metadata": {},
   "source": [
    "8. What is the purpose of continue statement in Python?\n",
    "\n",
    "Ans: The continue statement is just the opposite to that of break.It skips the remaining statements in the current loop and \n",
    "    starts the next iteration. "
   ]
  },
  {
   "cell_type": "code",
   "execution_count": 14,
   "id": "14e17b5e",
   "metadata": {},
   "outputs": [
    {
     "name": "stdout",
     "output_type": "stream",
     "text": [
      "10 15\n"
     ]
    }
   ],
   "source": [
    "# 9. Write Python program that swap two number with temp variable and without temp variable.\n",
    "\n",
    "# With temp variable\n",
    "\n",
    "a = 15\n",
    "b = 10\n",
    "temp = 0\n",
    "temp = b\n",
    "b = a\n",
    "a = temp\n",
    "print(a,b)"
   ]
  },
  {
   "cell_type": "code",
   "execution_count": 15,
   "id": "2247118b",
   "metadata": {},
   "outputs": [
    {
     "name": "stdout",
     "output_type": "stream",
     "text": [
      "40 20\n"
     ]
    }
   ],
   "source": [
    "# Without temp variable\n",
    "\n",
    "a = 20\n",
    "b = 40\n",
    "a = a + b\n",
    "b = a - b\n",
    "a = a - b\n",
    "print(a,b)"
   ]
  },
  {
   "cell_type": "code",
   "execution_count": 16,
   "id": "de8d0707",
   "metadata": {},
   "outputs": [
    {
     "name": "stdout",
     "output_type": "stream",
     "text": [
      "Enter the number : 5\n",
      "The number is Odd\n"
     ]
    }
   ],
   "source": [
    "# 10. Write a Python program to find whether a given number is even or odd,print out an appropriate message to the user.\n",
    "\n",
    "num = int(input(\"Enter the number : \"))\n",
    "\n",
    "if(num % 2 ==0):\n",
    "    print(\"The number is Even\")\n",
    "else:\n",
    "    print(\"The number is Odd\")\n",
    "    "
   ]
  },
  {
   "cell_type": "code",
   "execution_count": 17,
   "id": "7047f855",
   "metadata": {},
   "outputs": [
    {
     "name": "stdout",
     "output_type": "stream",
     "text": [
      "Enter the character : a\n",
      "Its a Vowel\n"
     ]
    }
   ],
   "source": [
    "# 11. Write a Python program to test whether a passed letter is a vowel or not.\n",
    "\n",
    "w = input(\"Enter the character : \")\n",
    "\n",
    "if(w == 'a' or w == 'e' or w == 'i' or w == 'o' or w == 'u'):\n",
    "    print(\"Its a Vowel\")\n",
    "else:\n",
    "    print(\"Its a consonant\")"
   ]
  },
  {
   "cell_type": "code",
   "execution_count": 25,
   "id": "5d7be1d4",
   "metadata": {},
   "outputs": [
    {
     "name": "stdout",
     "output_type": "stream",
     "text": [
      "Enter the first number : 5\n",
      "Enter the secound number : 5\n",
      "Enter the third number : 2\n",
      "The sum is : 0\n"
     ]
    }
   ],
   "source": [
    "# 12. Write a Python program to sum of three given integers.However, if two values are equal sum will be zero.\n",
    "\n",
    "def sum_three(x,y,z):\n",
    "    if(x==y or y==z or x==z):\n",
    "        return 0\n",
    "    else:\n",
    "        return x + y + z\n",
    "        \n",
    "try:\n",
    "    num1 = int(input(\"Enter the first number : \"))\n",
    "    num2 = int(input(\"Enter the secound number : \"))\n",
    "    num3 = int(input(\"Enter the third number : \"))\n",
    "    \n",
    "    result = sum_three(num1,num2,num3)\n",
    "    print(f'The sum is : {result}')\n",
    "    \n",
    "except ValueError:\n",
    "    print(\"Please enter valid integers.\")"
   ]
  },
  {
   "cell_type": "code",
   "execution_count": 27,
   "id": "5a690e82",
   "metadata": {},
   "outputs": [
    {
     "name": "stdout",
     "output_type": "stream",
     "text": [
      "Enter first number : 5\n",
      "Enter secound number : 5\n",
      "True\n"
     ]
    }
   ],
   "source": [
    "# 13. Write a Python program that will return true if the two given integer values are equal or their sum or difference is 5.\n",
    "\n",
    "def check_value(n1,n2):\n",
    "    return n1 == n2 or n1 - n2 == 5 or n1 + n2 == 5\n",
    "try:\n",
    "    num1 = int(input(\"Enter first number : \"))\n",
    "    num2 = int(input(\"Enter secound number : \"))\n",
    "    \n",
    "    result = check_value(num1,num2)\n",
    "    \n",
    "    if result:\n",
    "        print(\"True\")\n",
    "    else:\n",
    "        print(\"False\")\n",
    "\n",
    "except ValueError:\n",
    "    print(\"Please enter valid integers.\")"
   ]
  },
  {
   "cell_type": "code",
   "execution_count": 2,
   "id": "64bd0097",
   "metadata": {},
   "outputs": [
    {
     "name": "stdout",
     "output_type": "stream",
     "text": [
      "55\n"
     ]
    }
   ],
   "source": [
    "# 14. Write a python program to sum of the first n positive integers.\n",
    "\n",
    "sum = 0\n",
    "\n",
    "for i in range(1,11):\n",
    "    sum = sum + i\n",
    "    i = i + 1\n",
    "print(sum)"
   ]
  },
  {
   "cell_type": "code",
   "execution_count": 4,
   "id": "8f05e1ae",
   "metadata": {},
   "outputs": [
    {
     "name": "stdout",
     "output_type": "stream",
     "text": [
      "Enter the string : Python\n",
      "The string length is : 6\n"
     ]
    }
   ],
   "source": [
    "# 15. Write a Python program to calculate the length of a string.  \n",
    "\n",
    "def string_length(x):\n",
    "    length = len(x)\n",
    "    return length\n",
    "\n",
    "st_input = input(\"Enter the string : \")\n",
    "\n",
    "result = string_length(st_input)\n",
    "\n",
    "print(f'The string length is : {result}')"
   ]
  },
  {
   "cell_type": "code",
   "execution_count": 11,
   "id": "46a05625",
   "metadata": {},
   "outputs": [
    {
     "name": "stdout",
     "output_type": "stream",
     "text": [
      "Enter a string: hello\n",
      "Character frequency:\n",
      "h: 1\n",
      "e: 1\n",
      "l: 2\n",
      "o: 1\n"
     ]
    }
   ],
   "source": [
    "# 16. Write a Python program to count the number of characters (character frequency) in a string.\n",
    "\n",
    "def count_char_frequency(input_string):\n",
    "    \n",
    "    char_frequency = {}\n",
    "\n",
    "    for i in input_string:\n",
    "        if i in char_frequency:\n",
    "            char_frequency[i] = char_frequency[i] + 1\n",
    "        else:\n",
    "            char_frequency[i] = 1\n",
    "\n",
    "    return char_frequency\n",
    "\n",
    "\n",
    "user_input = input(\"Enter a string: \")\n",
    "\n",
    "\n",
    "frequency_result = count_char_frequency(user_input)\n",
    "\n",
    "\n",
    "print(\"Character frequency:\")\n",
    "for char, count in frequency_result.items():\n",
    "    print(f\"{char}: {count}\")\n",
    "\n",
    "    "
   ]
  },
  {
   "cell_type": "markdown",
   "id": "775fc2b0",
   "metadata": {},
   "source": [
    " 17. What are negative indexes and why are they used?\n",
    "\n",
    "Ans : Negative indexes are used to access elements from the end of a sequence(such as a string,list, or tuple). \n",
    "    The index -1 refers to the last elements,-2 refers to the secound-to-last elements,and so on. \n",
    "    Negative indexing provides a convienient way to access elements in reverse order without e\n",
    "    xplicitly calculating the index from the end. "
   ]
  },
  {
   "cell_type": "code",
   "execution_count": 12,
   "id": "9c81b8d2",
   "metadata": {},
   "outputs": [
    {
     "name": "stdout",
     "output_type": "stream",
     "text": [
      "Enter main string : abababaa\n",
      "Enter sub string : ba\n",
      "The substring ba occurs 3 times in the main string.\n"
     ]
    }
   ],
   "source": [
    "# 18. Write a Python program to count occurrences of a substring in a string.  \n",
    "def count_subs_occ(main_string,sub_string):\n",
    "    count = main_string.count(sub_string)\n",
    "    return count\n",
    "\n",
    "main_string = input(\"Enter main string : \")\n",
    "sub_string = input(\"Enter sub string : \")\n",
    "\n",
    "occurrences = count_subs_occ(main_string,sub_string)\n",
    "\n",
    "print(f'The substring {sub_string} occurs {occurrences} times in the main string.')"
   ]
  },
  {
   "cell_type": "code",
   "execution_count": 2,
   "id": "f785ff08",
   "metadata": {},
   "outputs": [
    {
     "name": "stdout",
     "output_type": "stream",
     "text": [
      "Enter the string : His name is Ram, He is a Doctor.\n",
      "Enter a word : is\n",
      "count of the word is: \n",
      "2\n"
     ]
    }
   ],
   "source": [
    "# 19. Write a Python program to count the occurrences of each word in a given sentence\n",
    "string = input(\"Enter the string : \")\n",
    "word = input(\"Enter a word : \")\n",
    "\n",
    "a =[]\n",
    "count = 0\n",
    "a = string.split(\" \")\n",
    "for i in range(0,len(a)):\n",
    "    if(word == a[i]):\n",
    "        count = count + 1\n",
    "print(\"count of the word is: \")\n",
    "print(count)"
   ]
  },
  {
   "cell_type": "code",
   "execution_count": 4,
   "id": "974e5d74",
   "metadata": {},
   "outputs": [
    {
     "name": "stdout",
     "output_type": "stream",
     "text": [
      "XYC ABZ\n"
     ]
    }
   ],
   "source": [
    "# 20. Write a Python program to get a single string from two given strings,\n",
    "# separated by a space and swap the first two characters of each string.\n",
    "\n",
    "def char_swap(a,b):\n",
    "    \n",
    "    new_a = b[:2] + a[2:]\n",
    "    new_b = a[:2] + b[2:]\n",
    "    \n",
    "    return new_a + ' ' + new_b\n",
    "print(char_swap('ABC','XYZ'))"
   ]
  },
  {
   "cell_type": "code",
   "execution_count": 10,
   "id": "6f3b0b54",
   "metadata": {},
   "outputs": [
    {
     "name": "stdout",
     "output_type": "stream",
     "text": [
      "Enter string : abcly\n",
      "Modified string :  abclying\n"
     ]
    }
   ],
   "source": [
    "# 21. Write a Python program to add 'ing' at the end of a given string (length should be at least 3). \n",
    "# If the given string already ends with 'ing' then add 'ly' instead if the string length of the given string is less than 3,\n",
    "# leave it unchanged.\n",
    "\n",
    "def add_ly_ing(input_string):\n",
    "    if len(input_string) < 3:\n",
    "        result = input_string\n",
    "    elif input_string.endswith('ing'):\n",
    "        result = input_string + 'ly'\n",
    "    else:\n",
    "        result = input_string + 'ing'\n",
    "        \n",
    "        return result\n",
    "input_string = input(\"Enter string : \")\n",
    "\n",
    "modi_string = add_ly_ing(input_string)\n",
    "\n",
    "print(\"Modified string : \", modi_string)\n"
   ]
  },
  {
   "cell_type": "code",
   "execution_count": 12,
   "id": "e8d8203f",
   "metadata": {},
   "outputs": [
    {
     "name": "stdout",
     "output_type": "stream",
     "text": [
      "Enter a string: I am not poor\n",
      "Resulting string: I am good\n"
     ]
    }
   ],
   "source": [
    "# 22. Write a Python program to find the first appearance of the substring 'not' and 'poor' from a given string, \n",
    "#if 'not' follows the 'poor', replace the whole 'not'...'poor' substring  with 'good'. Return the resulting string.\n",
    "\n",
    "def replace_not_poor(input_string):\n",
    "    # Find the indices of 'not' and 'poor'\n",
    "    index_not = input_string.find('not')\n",
    "    index_poor = input_string.find('poor')\n",
    "\n",
    "    # Check if 'not' appears before 'poor' and both substrings are present\n",
    "    if index_not != -1 and index_poor != -1 and index_not < index_poor:\n",
    "        # Replace the 'not'...'poor' substring with 'good'\n",
    "        result_string = input_string[:index_not] + 'good' + input_string[index_poor + 4:]\n",
    "    else:\n",
    "        # Otherwise, return the original string\n",
    "        result_string = input_string\n",
    "\n",
    "    return result_string\n",
    "\n",
    "# Get the input string from the user\n",
    "input_string = input(\"Enter a string: \")\n",
    "\n",
    "# Call the function and get the resulting string\n",
    "resulting_string = replace_not_poor(input_string)\n",
    "\n",
    "# Display the resulting string\n",
    "print(\"Resulting string:\", resulting_string)\n"
   ]
  },
  {
   "cell_type": "code",
   "execution_count": 18,
   "id": "0f643d89",
   "metadata": {},
   "outputs": [
    {
     "name": "stdout",
     "output_type": "stream",
     "text": [
      "Length of the longest word: 6\n"
     ]
    }
   ],
   "source": [
    "# 23. Write a Python function that takes a list of words and returns the length of the longest one.\n",
    "\n",
    "def find_longest_word(words):\n",
    "    if not words:\n",
    "        return 0  \n",
    "\n",
    "    longest_length = len(words[0])\n",
    "\n",
    "    for i in words[1:]:\n",
    "        current_length = len(i)\n",
    "        if current_length > longest_length:\n",
    "            longest_length = current_length\n",
    "\n",
    "    return longest_length\n",
    "\n",
    "\n",
    "word_list = [\"apple\", \"banana\", \"cherry\", \"kiwi\", \"grape\"]\n",
    "result = find_longest_word(word_list)\n",
    "print(\"Length of the longest word:\", result)\n"
   ]
  },
  {
   "cell_type": "code",
   "execution_count": 1,
   "id": "b0afd40d",
   "metadata": {},
   "outputs": [
    {
     "name": "stdout",
     "output_type": "stream",
     "text": [
      "HGFEDCBA\n"
     ]
    }
   ],
   "source": [
    "# 24.  Write a Python function to reverses a string if its length is a multiple of 4. \n",
    "\n",
    "def reverse_string(input_string):\n",
    "    if len(input_string) % 4 == 0:\n",
    "        return input_string[::-1]\n",
    "    else:\n",
    "        return input_string\n",
    "    \n",
    "user_input = \"ABCDEFGH\"\n",
    "\n",
    "result = reverse_string(user_input)\n",
    "print(result)"
   ]
  },
  {
   "cell_type": "code",
   "execution_count": 7,
   "id": "e7ee1e77",
   "metadata": {},
   "outputs": [
    {
     "name": "stdout",
     "output_type": "stream",
     "text": [
      "Enter string : Technologies\n",
      "Result :  Tees\n"
     ]
    }
   ],
   "source": [
    "# 25. Write a Python program to get a string made of the first 2 and the last 2 chars from a given a string. \n",
    "# If the string length is less than 2, return instead of the empty string.\n",
    "\n",
    "def join_char(input_str):\n",
    "    if len(input_str) < 2:\n",
    "        return ''\n",
    "    else:\n",
    "        return input_str[:2] + input_str[-2 :]\n",
    "    \n",
    "user_input = input(\"Enter string : \")\n",
    "result = join_char(user_input)\n",
    "print(\"Result : \", result)"
   ]
  },
  {
   "cell_type": "code",
   "execution_count": 12,
   "id": "610439a1",
   "metadata": {},
   "outputs": [
    {
     "name": "stdout",
     "output_type": "stream",
     "text": [
      "Result: abcdXYZefgh\n"
     ]
    }
   ],
   "source": [
    "# 26. Write a Python function to insert a string in the middle of a string.\n",
    "\n",
    "def insert_string(original_str, to_insert):\n",
    "    middle_index = len(original_str) // 2\n",
    "    result_str = original_str[:middle_index] + to_insert + original_str[middle_index:]\n",
    "    return result_str\n",
    "\n",
    "\n",
    "original_string = \"abcdefgh\"\n",
    "string_to_insert = \"XYZ\"\n",
    "result = insert_string(original_string, string_to_insert)\n",
    "print(\"Result:\", result)"
   ]
  },
  {
   "cell_type": "markdown",
   "id": "ed29eea5",
   "metadata": {},
   "source": [
    "# Module - 3(Collections, Functions and Modules)"
   ]
  },
  {
   "cell_type": "code",
   "execution_count": 16,
   "id": "747ca8f0",
   "metadata": {},
   "outputs": [
    {
     "name": "stdout",
     "output_type": "stream",
     "text": [
      "[6, 5, 4, 3, 2, 1]\n",
      "[6, 5, 4, 3, 2, 1]\n"
     ]
    }
   ],
   "source": [
    "# 27. What is List? How will you reverse a list?  \n",
    "\n",
    "# Ans : In Python,a list is a mutable and ordered collection of elements.List can contain elements of different data types,\n",
    "# and you can modify,add,or remove elements from a list after its creation.\n",
    "# Lists are defined using square brackets '[]'and commas to separate elements. \n",
    "\n",
    "  # How will you reverse a list?\n",
    "\n",
    "ls = [1,2,3,4,5,6]\n",
    "ls.reverse()\n",
    "print(ls)\n",
    "  \n",
    "    # With slicing \n",
    "\n",
    "my_list = [1, 2, 3, 4, 5, 6]\n",
    "reversed_list = my_list[::-1]\n",
    "print(reversed_list)\n"
   ]
  },
  {
   "cell_type": "code",
   "execution_count": 20,
   "id": "5a0f7c94",
   "metadata": {},
   "outputs": [
    {
     "name": "stdout",
     "output_type": "stream",
     "text": [
      "[2, 33, 222, 14]\n"
     ]
    }
   ],
   "source": [
    "# 28. How will you remove last object from a list?  Suppose list1 is [2, 33, 222, 14, and 25], what is list1 [-1]\n",
    "\n",
    " # To remove the last object from a list in Python, you can use the pop() method\n",
    "    \n",
    "list1 = [2, 33, 222, 14, 25]\n",
    "list1.pop(-1)\n",
    "print(list1)"
   ]
  },
  {
   "cell_type": "code",
   "execution_count": 23,
   "id": "f62d4ebe",
   "metadata": {},
   "outputs": [
    {
     "name": "stdout",
     "output_type": "stream",
     "text": [
      "[11, 22, 33, 44, 55, 66]\n",
      "[1, 2, 3, 4, 5, 6, 7, 8]\n"
     ]
    }
   ],
   "source": [
    "# 29. Differentiate between append () and extend () methods?\n",
    "\n",
    "  # 1.append() method:\n",
    "\n",
    "# The append() method is used to add a single element to the end of a list.\n",
    "# The argument passed to append() becomes the last element of the list.\n",
    "# It modifies the original list in place.\n",
    "\n",
    "ls = [11, 22, 33, 44, 55]\n",
    "ls.append(66)\n",
    "print(ls)\n",
    "\n",
    "  # 2. extend() method:\n",
    "\n",
    "# The extend() method is used to append the elements of an iterable (e.g., another list, tuple, string) to the end of the list.\n",
    "# It takes an iterable as an argument and adds its elements to the original list.\n",
    "# It also modifies the original list in place.\n",
    "\n",
    "ls1 = [1, 2, 3, 4, 5]\n",
    "ls1.extend([6, 7, 8])\n",
    "print(ls1)\n",
    "\n"
   ]
  },
  {
   "cell_type": "code",
   "execution_count": 31,
   "id": "3d7e9759",
   "metadata": {},
   "outputs": [
    {
     "name": "stdout",
     "output_type": "stream",
     "text": [
      "Largest number from list :  444\n",
      "Smallest number from list :  2\n",
      "Sum of all numbers from list :  534\n"
     ]
    }
   ],
   "source": [
    "# 30. Write a Python function to get the largest number, smallest num and sum of all from a list.\n",
    "\n",
    "def analyze_num(numbers):\n",
    "    if not numbers:\n",
    "        return none\n",
    "\n",
    "    largest = max(numbers)\n",
    "    smallest = min(numbers)\n",
    "    total_sum = sum(numbers)\n",
    "    return largest, smallest, total_sum\n",
    "\n",
    "num_list = [2, 33, 444, 55]\n",
    "result = analyze_num(num_list)\n",
    "\n",
    "print(\"Largest number from list : \", result[0])\n",
    "print(\"Smallest number from list : \", result[1])\n",
    "print(\"Sum of all numbers from list : \", result[2])\n",
    " "
   ]
  },
  {
   "cell_type": "code",
   "execution_count": 32,
   "id": "8f2b2707",
   "metadata": {},
   "outputs": [
    {
     "name": "stdout",
     "output_type": "stream",
     "text": [
      "Both lists are equal\n"
     ]
    }
   ],
   "source": [
    "# 31. How will you compare two lists?\n",
    "\n",
    "# To compare two lists in Python, you can use the equality operator (==). The == operator checks if the elements at \n",
    "# corresponding positions in the two lists are equal and if the lists have the same length. \n",
    "# Here's an example:\n",
    "\n",
    "list1 = [1,2,3]\n",
    "list2 = [1,2,3]\n",
    "\n",
    "if list1 == list2:\n",
    "    print(\"Both lists are equal\")\n",
    "else:\n",
    "    print(\"Lists are not equal\")\n",
    "    "
   ]
  },
  {
   "cell_type": "code",
   "execution_count": 40,
   "id": "3d50252e",
   "metadata": {},
   "outputs": [
    {
     "name": "stdout",
     "output_type": "stream",
     "text": [
      "Number of strings with the same first and last character: 4\n"
     ]
    }
   ],
   "source": [
    "# 32. Write a Python program to count the number of strings where the string length is 2 or more and the \n",
    "#     first and last character are same from a given list of strings.\n",
    "\n",
    "def string_count(strings):\n",
    "    count = 0\n",
    "\n",
    "    for s in strings:\n",
    "        if len(s) >= 2 and s[0] == s[-1]:\n",
    "            count += 1\n",
    "\n",
    "    return count\n",
    "\n",
    "\n",
    "string_list = [\"aba\", \"xyz\", \"noon\", \"level\", \"hello\", \"radar\"]\n",
    "result = string_count(string_list)\n",
    "\n",
    "print(\"Number of strings with the same first and last character:\", result)\n",
    "\n",
    "\n"
   ]
  },
  {
   "cell_type": "code",
   "execution_count": 1,
   "id": "ef8089c3",
   "metadata": {},
   "outputs": [
    {
     "name": "stdout",
     "output_type": "stream",
     "text": [
      "Original List: [1, 2, 2, 3, 4, 4, 5]\n",
      "List after removing duplicates: [1, 2, 3, 4, 5]\n"
     ]
    }
   ],
   "source": [
    "# 33. Write a Python program to remove duplicates from a list.  \n",
    "\n",
    "def remove_duplicates(input_list):\n",
    "    unique_list = list(set(input_list))\n",
    "    return unique_list\n",
    "\n",
    "\n",
    "original_list = [1, 2, 2, 3, 4, 4, 5]\n",
    "result = remove_duplicates(original_list)\n",
    "\n",
    "print(\"Original List:\", original_list)\n",
    "print(\"List after removing duplicates:\", result)"
   ]
  },
  {
   "cell_type": "code",
   "execution_count": 10,
   "id": "e901fb8c",
   "metadata": {},
   "outputs": [
    {
     "name": "stdout",
     "output_type": "stream",
     "text": [
      "Enter your list : [1,2,3,4,5]\n",
      "[1,2,3,4,5]\n"
     ]
    }
   ],
   "source": [
    "# 34. Write a Python program to check a list is empty or not. \n",
    "\n",
    "def check_list(input_list):\n",
    "    \n",
    "    if(input_list) == '':\n",
    "        return \"Empty list\"\n",
    "    else:\n",
    "        return input_list\n",
    "\n",
    "user_list = input(\"Enter your list : \")\n",
    "result = check_list(user_list)\n",
    "print(result)"
   ]
  },
  {
   "cell_type": "code",
   "execution_count": 11,
   "id": "a984e2e9",
   "metadata": {},
   "outputs": [
    {
     "name": "stdout",
     "output_type": "stream",
     "text": [
      "True\n"
     ]
    }
   ],
   "source": [
    "# 35. Write a Python function that takes two lists and returns true if they have at least one common member.\n",
    "\n",
    "def common_member(list1,list2):\n",
    "    result = False\n",
    "    \n",
    "    for x in list1:\n",
    "        \n",
    "        for i in list2:\n",
    "            if x == i:\n",
    "                result = True\n",
    "                return result\n",
    "            return result\n",
    "list1 = [1,2,3,4,5,6]\n",
    "list2 = [1,2,8,7,5,9]\n",
    "m_result = common_member(list1,list2)\n",
    "print(m_result)"
   ]
  },
  {
   "cell_type": "code",
   "execution_count": 19,
   "id": "51d8eb50",
   "metadata": {},
   "outputs": [
    {
     "name": "stdout",
     "output_type": "stream",
     "text": [
      "First 5 elements :  [1, 4, 9, 16, 25]\n",
      "Last 5 elements :  [676, 729, 784, 841, 900]\n"
     ]
    }
   ],
   "source": [
    "# 36. Write a Python program to generate and print a list of first and last 5 elements where the values are square\n",
    "# of numbers between 1 and 30. \n",
    "\n",
    "def generate_square_list():\n",
    "    square_list = [i**2 for i in range(1,31)]\n",
    "    \n",
    "    first_5 = square_list[:5]\n",
    "    last_5 = square_list[-5:]\n",
    "    \n",
    "    return first_5,last_5\n",
    "\n",
    "first_5_elements, last_5_elements = generate_square_list()\n",
    "\n",
    "print(\"First 5 elements : \", first_5_elements)\n",
    "print(\"Last 5 elements : \", last_5_elements)\n",
    "    \n",
    "    "
   ]
  },
  {
   "cell_type": "code",
   "execution_count": 1,
   "id": "e58c916e",
   "metadata": {},
   "outputs": [
    {
     "name": "stdout",
     "output_type": "stream",
     "text": [
      "old list :  [1, 2, 2, 3, 4, 4, 5]\n",
      "New list with unique elements :  [1, 2, 3, 4, 5]\n"
     ]
    }
   ],
   "source": [
    "# 37. Write a Python function that takes a list and returns a new list with unique elements of the first list.\n",
    "\n",
    "def unique_ele(input_list):\n",
    "    unique_list = list(set(input_list))\n",
    "    return unique_list\n",
    "\n",
    "user_input = [1,2,2,3,4,4,5]\n",
    "result = unique_ele(user_input)\n",
    "print(\"old list : \", user_input)\n",
    "print(\"New list with unique elements : \",result)"
   ]
  },
  {
   "cell_type": "code",
   "execution_count": 4,
   "id": "b725a825",
   "metadata": {},
   "outputs": [
    {
     "name": "stdout",
     "output_type": "stream",
     "text": [
      "Old list of characters :  ['P', 'y', 't', 'h', 'o', 'n']\n",
      "Converted string from list :  Python\n"
     ]
    }
   ],
   "source": [
    "# 38. Write a Python program to convert a list of characters into a string. \n",
    "\n",
    "def convert_to_string(input_list):\n",
    "    str1 = ''.join(input_list)\n",
    "    return str1\n",
    "\n",
    "user_input = ['P','y','t','h','o','n']\n",
    "result = convert_to_string(user_input)\n",
    "print(\"Old list of characters : \", user_input)\n",
    "print(\"Converted string from list : \", result)"
   ]
  },
  {
   "cell_type": "code",
   "execution_count": 6,
   "id": "9a64a7e4",
   "metadata": {},
   "outputs": [
    {
     "name": "stdout",
     "output_type": "stream",
     "text": [
      "Green\n"
     ]
    }
   ],
   "source": [
    "# 39. Write a Python program to select an item randomly from a list. \n",
    "\n",
    "import random\n",
    "\n",
    "color_list = ['Red', 'Blue', 'Green', 'White', 'Black']\n",
    "\n",
    "print(random.choice(color_list))"
   ]
  },
  {
   "cell_type": "code",
   "execution_count": 8,
   "id": "61e7a0aa",
   "metadata": {},
   "outputs": [
    {
     "name": "stdout",
     "output_type": "stream",
     "text": [
      "20\n"
     ]
    }
   ],
   "source": [
    "# 40. Write a Python program to find the second smallest number in a list.\n",
    "\n",
    "def find_number(input_list):\n",
    "    \n",
    "    sorted_list = sorted(input_list)\n",
    "    seco_small_num = sorted_list[1]\n",
    "    return seco_small_num\n",
    "\n",
    "user_input = [10,20,30,40,50,60]\n",
    "result = find_number(user_input)\n",
    "print(result)\n"
   ]
  },
  {
   "cell_type": "code",
   "execution_count": 9,
   "id": "16bf4eeb",
   "metadata": {},
   "outputs": [
    {
     "name": "stdout",
     "output_type": "stream",
     "text": [
      "['Red', 'Orange', 'black', 'blue']\n"
     ]
    }
   ],
   "source": [
    "# 41. Write a Python program to get unique values from a list.\n",
    "\n",
    "ls = [\"Red\",\"blue\",\"Red\",\"Orange\",\"blue\",\"black\"]\n",
    "\n",
    "unique_ls = list(set(ls))\n",
    "\n",
    "print(unique_ls)"
   ]
  },
  {
   "cell_type": "code",
   "execution_count": 16,
   "id": "6ba70129",
   "metadata": {},
   "outputs": [
    {
     "name": "stdout",
     "output_type": "stream",
     "text": [
      "The list contains the sublist.\n"
     ]
    }
   ],
   "source": [
    "# 42. Write a Python program to check whether a list contains a sub list.\n",
    "\n",
    "def is_sublist(main_list, sublist):\n",
    "    \n",
    "    for i in range(len(main_list) - len(sublist) + 1):\n",
    "        \n",
    "        if main_list[i:i+len(sublist)] == sublist:\n",
    "            return True\n",
    "    return False\n",
    "\n",
    "\n",
    "main_list = [1, 2, 3, 4, 5, 6, 7, 8, 9]\n",
    "sublist_to_check = [3, 4, 5]\n",
    "result = is_sublist(main_list, sublist_to_check)\n",
    "\n",
    "if result:\n",
    "    print(\"The list contains the sublist.\")\n",
    "else:\n",
    "    print(\"The list does not contain the sublist.\")\n",
    "\n",
    "    "
   ]
  },
  {
   "cell_type": "code",
   "execution_count": 17,
   "id": "66351fd5",
   "metadata": {},
   "outputs": [
    {
     "name": "stdout",
     "output_type": "stream",
     "text": [
      "Variable1 :  45\n",
      "Variable2 :  50\n",
      "Variable3 :  55\n"
     ]
    }
   ],
   "source": [
    "# 43. Write a Python program to split a list into different variables. \n",
    "\n",
    "def split_list(main_list):\n",
    "    var1,var2,var3 = main_list[:3]\n",
    "    return var1,var2,var3\n",
    "\n",
    "my_list = [45,50,55,60,65,70]\n",
    "result1,result2,result3 = split_list(my_list)\n",
    "\n",
    "print(\"Variable1 : \", result1)\n",
    "print(\"Variable2 : \", result2)\n",
    "print(\"Variable3 : \", result3)"
   ]
  },
  {
   "cell_type": "markdown",
   "id": "16a0675e",
   "metadata": {},
   "source": [
    " 44. What is tuple? Difference between list and tuple. \n",
    "Ans :     List                                                  Tuple\n",
    "1\tLists are mutable.                              \tTuples are immutable.\n",
    "2\tIteration in lists is time consuming.           \tIteration in tuples is faster\n",
    "3\tLists are better for insertion and \n",
    "    deletion operations                             \tTuples are appropriate for accessing the elements\n",
    "4\tLists consume more memory                       \tTuples consume lesser memory\n",
    "5\tLists have several built-in methods             \tTuples have comparatively lesser built-in methods.\n",
    "6\tLists are more prone to unexpected errors       \tTuples operations are safe and chances of error are very less\n",
    "7\tLists are initialized using square brackets []. \tTuples are initialized using parentheses ()."
   ]
  },
  {
   "cell_type": "code",
   "execution_count": 18,
   "id": "c41b46bb",
   "metadata": {},
   "outputs": [
    {
     "name": "stdout",
     "output_type": "stream",
     "text": [
      "Mixed Tuple: (1, 'hello', 3.14, True, [5, 6])\n",
      "Element 1: 1\n",
      "Element 2: hello\n",
      "Element 3: 3.14\n",
      "Element 4: True\n",
      "Element 5: [5, 6]\n"
     ]
    }
   ],
   "source": [
    "# 45. Write a Python program to create a tuple with different data types.  \n",
    "\n",
    "mixed_tuple = (1, 'hello', 3.14, True, [5, 6])\n",
    "\n",
    "\n",
    "print(\"Mixed Tuple:\", mixed_tuple)\n",
    "\n",
    "\n",
    "print(\"Element 1:\", mixed_tuple[0])\n",
    "print(\"Element 2:\", mixed_tuple[1])\n",
    "print(\"Element 3:\", mixed_tuple[2])\n",
    "print(\"Element 4:\", mixed_tuple[3])\n",
    "print(\"Element 5:\", mixed_tuple[4])\n"
   ]
  },
  {
   "cell_type": "code",
   "execution_count": 1,
   "id": "d8777c61",
   "metadata": {},
   "outputs": [
    {
     "name": "stdout",
     "output_type": "stream",
     "text": [
      "Tuple with Numbers :  (1, 2, 3, 4, 5, 6)\n"
     ]
    }
   ],
   "source": [
    "# 46. Write a Python program to create a tuple with numbers.  \n",
    "\n",
    "number_tuple = (1,2,3,4,5,6)\n",
    "\n",
    "print(\"Tuple with Numbers : \", number_tuple)"
   ]
  },
  {
   "cell_type": "code",
   "execution_count": 2,
   "id": "89afb349",
   "metadata": {},
   "outputs": [
    {
     "name": "stdout",
     "output_type": "stream",
     "text": [
      "Tuple :  (1, 2, 3, 4, 5)\n",
      "Tuple to string :  12345\n"
     ]
    }
   ],
   "source": [
    "# 47.  Write a Python program to convert a tuple to a string.\n",
    "\n",
    "def tuple_to_string(input_data):\n",
    "    \n",
    "    result_string = ''.join(map(str,input_data))\n",
    "    return result_string\n",
    "\n",
    "input_tuple = (1,2,3,4,5)\n",
    "\n",
    "result = tuple_to_string(input_tuple)\n",
    "\n",
    "print(\"Tuple : \", input_tuple)\n",
    "print(\"Tuple to string : \",result)"
   ]
  },
  {
   "cell_type": "code",
   "execution_count": 5,
   "id": "887ea77e",
   "metadata": {},
   "outputs": [
    {
     "name": "stdout",
     "output_type": "stream",
     "text": [
      "Tuple :  (1, 2, 3, 4, 5, 6)\n",
      "3 exists in the tuple: True\n"
     ]
    }
   ],
   "source": [
    "# 48.Write a Python program to check whether an element exists within a tuple.\n",
    "\n",
    "def check_element(element,input_tuple):\n",
    "    \n",
    "    return element in input_tuple\n",
    "\n",
    "user_tuple = (1,2,3,4,5,6)\n",
    "\n",
    "element_to_check = 3\n",
    "\n",
    "result = check_element(element_to_check, user_tuple)\n",
    "\n",
    "print(\"Tuple : \", user_tuple)\n",
    "print(f'{element_to_check} exists in the tuple: {result}')"
   ]
  },
  {
   "cell_type": "code",
   "execution_count": 6,
   "id": "8fd5ab9b",
   "metadata": {},
   "outputs": [
    {
     "name": "stdout",
     "output_type": "stream",
     "text": [
      "Tuple:  (4, 5, 6, 7, 8, 9, 10)\n",
      "length of tuple:  7\n"
     ]
    }
   ],
   "source": [
    "# 49. Write a Python program to find the length of a tuple. \n",
    "\n",
    "ex_tuple = (4,5,6,7,8,9,10)\n",
    "\n",
    "len_tuple = len(ex_tuple)\n",
    "\n",
    "print(\"Tuple: \",ex_tuple)\n",
    "print(\"length of tuple: \", len_tuple)"
   ]
  },
  {
   "cell_type": "code",
   "execution_count": 10,
   "id": "008cacad",
   "metadata": {},
   "outputs": [
    {
     "name": "stdout",
     "output_type": "stream",
     "text": [
      "List:  [1, 2, 3, 4, 5, 6]\n",
      "Converted lsit to tuple :  (1, 2, 3, 4, 5, 6)\n"
     ]
    }
   ],
   "source": [
    "# 50. Write a Python program to convert a list to a tuple. \n",
    "\n",
    "def convert_ls_tuple(input_list):\n",
    "    return tuple(input_list)\n",
    "\n",
    "user_input = [1,2,3,4,5,6]\n",
    "\n",
    "result = convert_ls_tuple(user_input)\n",
    "\n",
    "print(\"List: \", user_input)\n",
    "print(\"Converted lsit to tuple : \", result)\n"
   ]
  },
  {
   "cell_type": "code",
   "execution_count": 24,
   "id": "cdf91e30",
   "metadata": {},
   "outputs": [
    {
     "name": "stdout",
     "output_type": "stream",
     "text": [
      "Tuple list:  (1, 2, 3, 4, 5)\n",
      "Reversed tuple list:  (5, 4, 3, 2, 1)\n"
     ]
    }
   ],
   "source": [
    "# 51. Write a Python program to reverse a tuple. \n",
    "\n",
    "def rev_tuple(input_tuple):\n",
    "    reverse_tuple = input_tuple[::-1]\n",
    "    return reverse_tuple\n",
    "\n",
    "user_input = (1,2,3,4,5)\n",
    "result = rev_tuple(user_input)\n",
    "print(\"Tuple list: \", user_input)\n",
    "print(\"Reversed tuple list: \", result)"
   ]
  },
  {
   "cell_type": "code",
   "execution_count": 29,
   "id": "614ec771",
   "metadata": {},
   "outputs": [
    {
     "name": "stdout",
     "output_type": "stream",
     "text": [
      "[(10, 20, 100), (40, 50, 100), (45, 55, 100)]\n"
     ]
    }
   ],
   "source": [
    "# 52. Write a Python program to replace last value of tuples in a list.\n",
    "\n",
    "tuple_list = [(10,20,30),(40,50,60),(45,55,65)]\n",
    "\n",
    "print([i[:-1] + (100,) for i in tuple_list])"
   ]
  },
  {
   "cell_type": "code",
   "execution_count": 37,
   "id": "9b10a6ca",
   "metadata": {},
   "outputs": [
    {
     "name": "stdout",
     "output_type": "stream",
     "text": [
      "Original tuple:  (1, 2, 3, 2, 4, 5, 3, 6, 6)\n",
      "Repeated item in tuple:  {2: 2, 3: 2, 6: 2}\n"
     ]
    }
   ],
   "source": [
    "# 53. Write a Python program to find the repeated items of a tuple. \n",
    "\n",
    "def rep_item_tuple(input_tuple):\n",
    "    rep_item = {}\n",
    "    \n",
    "    for i in input_tuple:\n",
    "        if input_tuple.count(i) > 1:\n",
    "            rep_item[i] = input_tuple.count(i)\n",
    "    return rep_item\n",
    "user_tuple =  (1, 2, 3, 2, 4, 5, 3, 6, 6)\n",
    "\n",
    "result = rep_item_tuple(user_tuple)\n",
    "print(\"Original tuple: \",user_tuple)\n",
    "print(\"Repeated item in tuple: \",result)\n",
    "            \n",
    "        \n",
    "        "
   ]
  },
  {
   "cell_type": "code",
   "execution_count": 38,
   "id": "367b5e63",
   "metadata": {},
   "outputs": [
    {
     "name": "stdout",
     "output_type": "stream",
     "text": [
      "Original list of tuple :  [(1, 2, 3), (), (4, 5), (), (), (6, 7, 8)]\n",
      "Tuple list after removing empty Tuples:  [(1, 2, 3), (4, 5), (6, 7, 8)]\n"
     ]
    }
   ],
   "source": [
    "# 54. Write a Python program to remove an empty tuple(s) from a list of tuples.\n",
    "\n",
    "def remove_empty(input_tuplelist):\n",
    "    return [t for t in input_tuplelist if t]\n",
    "\n",
    "user_tuple = [(1, 2, 3), (), (4, 5), (), (), (6, 7, 8)]\n",
    "\n",
    "result = remove_empty(user_tuple)\n",
    "\n",
    "print(\"Original list of tuple : \", user_tuple)\n",
    "print(\"Tuple list after removing empty Tuples: \", result)"
   ]
  },
  {
   "cell_type": "code",
   "execution_count": 39,
   "id": "df25e666",
   "metadata": {},
   "outputs": [
    {
     "name": "stdout",
     "output_type": "stream",
     "text": [
      "Original list is : [('Ram', 2), ('Radha', 5), ('Kishan', 4)]\n",
      "Modified list is : [('Ram', 'Radha', 'Kishan'), (2, 5, 4)]\n"
     ]
    }
   ],
   "source": [
    "# 55. Write a Python program to unzip a list of tuples into individual lists. \n",
    "\n",
    "list_tuple = [('Ram',2),('Radha',5),('Kishan',4)]\n",
    "\n",
    "print(\"Original list is : \" + str(list_tuple))\n",
    "\n",
    "res = list(zip(*list_tuple))\n",
    "\n",
    "print(\"Modified list is : \" + str(res))"
   ]
  },
  {
   "cell_type": "code",
   "execution_count": 6,
   "id": "bed0c091",
   "metadata": {},
   "outputs": [
    {
     "name": "stdout",
     "output_type": "stream",
     "text": [
      "Original Tuple list:  [(1, 'one'), (2, 'two'), (3, 'three')]\n",
      "Converted Tuple list to Dictionary:  {1: 'one', 2: 'two', 3: 'three'}\n"
     ]
    }
   ],
   "source": [
    "# 56. Write a Python program to convert a list of tuples into a dictionary.\n",
    "\n",
    "def convert_tup_dic(input_tuple):\n",
    "    res_dic = dict(input_tuple)\n",
    "    return res_dic\n",
    "\n",
    "input_tuple =  [(1, 'one'), (2, 'two'), (3, 'three')]\n",
    "\n",
    "result = convert_tup_dic(input_tuple)\n",
    "\n",
    "print(\"Original Tuple list: \", ls_tuple)\n",
    "print(\"Converted Tuple list to Dictionary: \", result)"
   ]
  },
  {
   "cell_type": "code",
   "execution_count": 8,
   "id": "620699e1",
   "metadata": {},
   "outputs": [
    {
     "name": "stdout",
     "output_type": "stream",
     "text": [
      "apple\n",
      "Banana\n",
      "Orange\n"
     ]
    }
   ],
   "source": [
    "# 57. How will you create a dictionary using tuples in python? \n",
    "\n",
    "my_dict = {(1,'One'):'apple',(2,'Two'):'Banana',(3,'Three'):'Orange'}\n",
    "\n",
    "print(my_dict[(1,'One')])\n",
    "print(my_dict[(2,'Two')])\n",
    "print(my_dict[(3,'Three')])"
   ]
  },
  {
   "cell_type": "code",
   "execution_count": 4,
   "id": "e68a72a9",
   "metadata": {},
   "outputs": [
    {
     "name": "stdout",
     "output_type": "stream",
     "text": [
      "Dictionary:  {1: 2, 3: 4, 4: 3, 2: 1, 0: 0}\n",
      "Ascending order :  [(0, 0), (2, 1), (1, 2), (4, 3), (3, 4)]\n",
      "Descending order:  [(3, 4), (4, 3), (1, 2), (2, 1), (0, 0)]\n"
     ]
    }
   ],
   "source": [
    "# 58. Write a Python script to sort (ascending and descending) a dictionary by value.\n",
    "\n",
    "import operator\n",
    "\n",
    "data = {1:2,3:4,4:3,2:1,0:0}\n",
    "\n",
    "print(\"Dictionary: \",data)\n",
    "\n",
    "sorted_data = sorted(data.items(),key = operator.itemgetter(1))\n",
    "\n",
    "print(\"Ascending order : \", sorted_data)\n",
    "\n",
    "sorted_data = sorted(data.items(),key = operator.itemgetter(1), reverse = True)\n",
    "\n",
    "print(\"Descending order: \", sorted_data)\n",
    "\n"
   ]
  },
  {
   "cell_type": "code",
   "execution_count": 13,
   "id": "570885eb",
   "metadata": {},
   "outputs": [
    {
     "name": "stdout",
     "output_type": "stream",
     "text": [
      "Concatenate Dictionaries :  {'a': 1, 'b': 2, 'c': 3, 'd': 4, 'e': 5, 'f': 6}\n"
     ]
    }
   ],
   "source": [
    "# 59. Write a Python script to concatenate following dictionaries to create a new one. \n",
    "\n",
    "def conc_dict(*dicts):\n",
    "    res_dict = {}\n",
    "    for d in dicts:\n",
    "        res_dict.update(d)\n",
    "    return res_dict\n",
    "    \n",
    "dict1 = {'a': 1,'b': 2}\n",
    "dict2 = {'c': 3,'d': 4}\n",
    "dict3 = {'e': 5,'f': 6}\n",
    "\n",
    "concatenate_dicts = conc_dict(dict1,dict2,dict3)\n",
    "print(\"Concatenate Dictionaries : \", concatenate_dicts)"
   ]
  },
  {
   "cell_type": "code",
   "execution_count": 20,
   "id": "74f6cc40",
   "metadata": {},
   "outputs": [
    {
     "name": "stdout",
     "output_type": "stream",
     "text": [
      "The key '2' exists in the dictionary.\n"
     ]
    }
   ],
   "source": [
    "# 60. Write a Python script to check if a given key already exists in a dictionary.\n",
    "\n",
    "def key_exists(my_dict,key):\n",
    "    return key in my_dict\n",
    "\n",
    "my_dict = {1:'one', 2: 'Two', 3:'Three'}\n",
    "\n",
    "key_to_check = 2\n",
    "\n",
    "if key_exists(my_dict,key_to_check):\n",
    "    print(f\"The key '{key_to_check}' exists in the dictionary.\")\n",
    "else:\n",
    "    print(f\"The key '{key_to_check}' does not exist in the dictionary.\")\n",
    "    "
   ]
  },
  {
   "cell_type": "code",
   "execution_count": 5,
   "id": "345abf95",
   "metadata": {},
   "outputs": [
    {
     "name": "stdout",
     "output_type": "stream",
     "text": [
      "maruti -----> red\n",
      "mazda -----> silver\n",
      "kia -----> blue\n",
      "audi -----> black\n"
     ]
    }
   ],
   "source": [
    "# 61. How Do You Traverse Through A Dictionary Object In Python? \n",
    "\n",
    "data = {\"maruti\": \"red\",\"mazda\":\"silver\",\"kia\":\"blue\",\"audi\":\"black\"}\n",
    "\n",
    "for key,values in data.items():\n",
    "    print(f'{key} -----> {values}')"
   ]
  },
  {
   "cell_type": "code",
   "execution_count": 23,
   "id": "ac31c605",
   "metadata": {},
   "outputs": [
    {
     "name": "stdout",
     "output_type": "stream",
     "text": [
      "The key is presence in dictionary\n"
     ]
    }
   ],
   "source": [
    "# 62. How Do You Check The Presence Of A Key In A Dictionary?\n",
    "\n",
    "my_dict = {'a': 1, 'b': 2, 'c': 3}\n",
    "\n",
    "key_check = 'a'\n",
    "\n",
    "if key_check in my_dict:\n",
    "    print(\"The key is presence in dictionary\")\n",
    "else:\n",
    "    print(\"The key is not presence in dictionary\")"
   ]
  },
  {
   "cell_type": "code",
   "execution_count": 1,
   "id": "00ec9c74",
   "metadata": {},
   "outputs": [
    {
     "name": "stdout",
     "output_type": "stream",
     "text": [
      "{1: 'value_1', 2: 'value_2', 3: 'value_3', 4: 'value_4', 5: 'value_5', 6: 'value_6', 7: 'value_7', 8: 'value_8', 9: 'value_9', 10: 'value_10', 11: 'value_11', 12: 'value_12', 13: 'value_13', 14: 'value_14', 15: 'value_15'}\n"
     ]
    }
   ],
   "source": [
    "# 63. Write a Python script to print a dictionary where the keys are numbers between 1 and 15.\n",
    "\n",
    "my_dicts = {key: f'value_{key}' for key in range(1,16)}\n",
    "\n",
    "print(my_dicts)"
   ]
  },
  {
   "cell_type": "code",
   "execution_count": 3,
   "id": "9c7ba5e3",
   "metadata": {},
   "outputs": [
    {
     "name": "stdout",
     "output_type": "stream",
     "text": [
      "All keys exists in dictionary\n"
     ]
    }
   ],
   "source": [
    "# 64. Write a Python program to check multiple keys exists in a dictionary.\n",
    "\n",
    "def keys_check(dicts_input, key_to_check):\n",
    "    \n",
    "    for key in key_to_check:\n",
    "        if key not in dicts_input:\n",
    "            return False\n",
    "        return True\n",
    "    \n",
    "user_dicts = {'a': 1,'b': 2,'c': 3,'d': 4,'e': 5}\n",
    "\n",
    "key_to_check = ['a','b','c']\n",
    "\n",
    "if keys_check(user_dicts,key_to_check):\n",
    "    print(\"All keys exists in dictionary\")\n",
    "else:\n",
    "    print(\"Some keys not exists in dictionary\")\n",
    "    "
   ]
  },
  {
   "cell_type": "code",
   "execution_count": 4,
   "id": "96af9c4e",
   "metadata": {},
   "outputs": [
    {
     "name": "stdout",
     "output_type": "stream",
     "text": [
      "{'a': 1, 'b': 2, 'c': 3, 'd': 4}\n"
     ]
    }
   ],
   "source": [
    "# 65. Write a Python script to merge two Python dictionaries.\n",
    "\n",
    "dict1 = {'a': 1,'b': 2}\n",
    "dict2 = {'c': 3,'d': 4}\n",
    "\n",
    "merged_dict = dict1.copy()\n",
    "merged_dict.update(dict2)\n",
    "\n",
    "print(merged_dict)"
   ]
  },
  {
   "cell_type": "code",
   "execution_count": 6,
   "id": "a4a0e07b",
   "metadata": {},
   "outputs": [
    {
     "name": "stdout",
     "output_type": "stream",
     "text": [
      "{'a': 1, 'b': 2, 'c': 3}\n"
     ]
    }
   ],
   "source": [
    "# 66. Write a Python program to map two lists into a dictionary.\n",
    "\n",
    "key = ['a','b','c']\n",
    "values = [1, 2, 3]\n",
    "\n",
    "maped_dict = dict(zip(key,values))\n",
    "\n",
    "print(maped_dict)"
   ]
  },
  {
   "cell_type": "code",
   "execution_count": 15,
   "id": "b38dfa18",
   "metadata": {},
   "outputs": [
    {
     "name": "stdout",
     "output_type": "stream",
     "text": [
      "Combined dictionary:  {'a': 400, 'b': 400, 'c': 300, 'd': 400}\n"
     ]
    }
   ],
   "source": [
    "# 67. Write a Python program to combine two dictionary adding values for common keys.  \n",
    "# d1 = {'a': 100, 'b': 200, 'c':300} o d2 = {'a': 300, 'b': 200,’d’:400}  \n",
    "# Sample output: Counter ({'a': 400, 'b': 400,’d’: 400, 'c': 300}). \n",
    "\n",
    "def combine_dicts(dict1,dict2):\n",
    "    combined_dict = dict1.copy()\n",
    "    \n",
    "    for key, value in dict2.items():\n",
    "        if key in combined_dict:\n",
    "            combined_dict[key] = combined_dict[key] + value\n",
    "        else:\n",
    "            combined_dict[key] = value\n",
    "            \n",
    "    return combined_dict\n",
    "\n",
    "dict1 = {'a': 100, 'b': 200, 'c':300}\n",
    "dict2 =  {'a': 300, 'b': 200,'d':400}\n",
    "\n",
    "res_dict = combine_dicts(dict1,dict2)\n",
    "\n",
    "print(\"Combined dictionary: \", res_dict)\n",
    "    \n"
   ]
  },
  {
   "cell_type": "code",
   "execution_count": 11,
   "id": "a48cb181",
   "metadata": {},
   "outputs": [],
   "source": [
    "data = {\"Ram\" : 25, \"Raj\" : 28, \"Rakesh\":27}"
   ]
  },
  {
   "cell_type": "code",
   "execution_count": 12,
   "id": "c6fdccb8",
   "metadata": {},
   "outputs": [],
   "source": [
    "from collections import Counter"
   ]
  },
  {
   "cell_type": "code",
   "execution_count": 13,
   "id": "f96e945f",
   "metadata": {},
   "outputs": [],
   "source": [
    "count = (data)"
   ]
  },
  {
   "cell_type": "code",
   "execution_count": 14,
   "id": "465c3ec3",
   "metadata": {},
   "outputs": [
    {
     "name": "stdout",
     "output_type": "stream",
     "text": [
      "{'Ram': 25, 'Raj': 28, 'Rakesh': 27}\n"
     ]
    }
   ],
   "source": [
    "print(count)"
   ]
  },
  {
   "cell_type": "code",
   "execution_count": 22,
   "id": "0b5684bf",
   "metadata": {},
   "outputs": [
    {
     "name": "stdout",
     "output_type": "stream",
     "text": [
      "{200, 100, 300}\n"
     ]
    }
   ],
   "source": [
    "# 68. Write a Python program to print all unique values in a dictionary.\n",
    "my_dict = {'a': 100, 'b': 200, 'c':300, 'd': 300,'e': 100}\n",
    "\n",
    "unique_dict = set(my_dict.values())\n",
    "\n",
    "print(unique_dict)\n"
   ]
  },
  {
   "cell_type": "markdown",
   "id": "fb383b86",
   "metadata": {},
   "source": [
    " 69. Why Do You Use the Zip () Method in Python?  \n",
    "\n",
    "Ans : The 'zip()' function in Python is used to combine elements from two or more iterables(such as lists,tuples, or strings)\n",
    "    into tuples. It creates an iterator that generates tuple where the i-th tuple contains the i-th element from \n",
    "    each of the input iterables.\n",
    "    "
   ]
  },
  {
   "cell_type": "code",
   "execution_count": 27,
   "id": "f61454bf",
   "metadata": {},
   "outputs": [
    {
     "name": "stdout",
     "output_type": "stream",
     "text": [
      "ac\n",
      "ad\n",
      "bc\n",
      "bd\n"
     ]
    }
   ],
   "source": [
    "# 70.  Write a Python program to create and display all combinations of letters, selecting each letter from a different \n",
    "# key in a dictionary.  \n",
    "#  Sample data: {'1': ['a','b'], '2': ['c','d']} \n",
    "\n",
    "from itertools import product\n",
    "\n",
    "dt = {'1': ['a','b'], '2': ['c','d']}\n",
    "\n",
    "for x, y in product(*dt.values()):\n",
    "    print(x + y)"
   ]
  },
  {
   "cell_type": "code",
   "execution_count": 2,
   "id": "554231de",
   "metadata": {},
   "outputs": [],
   "source": [
    "from collections import Counter"
   ]
  },
  {
   "cell_type": "code",
   "execution_count": 3,
   "id": "219af765",
   "metadata": {},
   "outputs": [
    {
     "name": "stdout",
     "output_type": "stream",
     "text": [
      "Highest 3 values in the dictionary:\n",
      "d: 30\n",
      "b: 25\n",
      "e: 20\n"
     ]
    }
   ],
   "source": [
    "# 71. Write a Python program to find the highest 3 values in a dictionary.\n",
    "dt =  {'a': 10, 'b': 25, 'c': 15, 'd': 30, 'e': 20}\n",
    "\n",
    "counter = Counter(dt)\n",
    "top_three_val = counter.most_common(3)\n",
    "\n",
    "print(\"Highest 3 values in the dictionary:\")\n",
    "for key, value in top_three_val:\n",
    "    print(f\"{key}: {value}\")"
   ]
  },
  {
   "cell_type": "code",
   "execution_count": 2,
   "id": "2509f5be",
   "metadata": {},
   "outputs": [
    {
     "name": "stdout",
     "output_type": "stream",
     "text": [
      "Counter({'item1': 1150, 'item2': 300})\n"
     ]
    }
   ],
   "source": [
    "# 72. Write a Python program to combine values in python list of dictionaries. \n",
    "# Sample data: [{'item': 'item1', 'amount': 400}, {'item': 'item2', 'amount':  300}, o {'item': 'item1', 'amount': 750}]  \n",
    "# Expected Output: Counter ({'item1': 1150, 'item2': 300}) \n",
    "\n",
    "from collections import Counter\n",
    "\n",
    "def combine_value(ls_dicts):\n",
    "    res_counter = Counter()\n",
    "    \n",
    "    for d in ls_dicts:\n",
    "        res_counter[d['item']] += d['amount']\n",
    "    \n",
    "    return res_counter\n",
    "sample_data = [{'item': 'item1', 'amount': 400}, {'item': 'item2', 'amount':  300}, {'item': 'item1', 'amount': 750}] \n",
    "\n",
    "result = combine_value(sample_data)\n",
    "\n",
    "print(result)\n"
   ]
  },
  {
   "cell_type": "code",
   "execution_count": 7,
   "id": "0760776e",
   "metadata": {},
   "outputs": [
    {
     "name": "stdout",
     "output_type": "stream",
     "text": [
      "{'w': 1, '3': 1, 'r': 2, 'e': 2, 's': 1, 'o': 1, 'u': 1, 'c': 1}\n"
     ]
    }
   ],
   "source": [
    "# 73. Write a Python program to create a dictionary from a string.  \n",
    "# Note: Track the count of the letters from the string.  Sample string: 'w3resource'  \n",
    "\n",
    "\n",
    "def string_to_dict(input_string):\n",
    "    letter_count = {}\n",
    "    \n",
    "    for char in input_string:\n",
    "        if char in letter_count:\n",
    "            letter_count[char] += 1\n",
    "        else:\n",
    "            letter_count[char] = 1\n",
    "    return letter_count\n",
    "            \n",
    "input_string = \"w3resource\"\n",
    "\n",
    "result_dic = string_to_dict(input_string)\n",
    "\n",
    "print(result_dic)"
   ]
  },
  {
   "cell_type": "code",
   "execution_count": 9,
   "id": "d89cbef9",
   "metadata": {},
   "outputs": [
    {
     "name": "stdout",
     "output_type": "stream",
     "text": [
      "Factorial of 5 is: 120\n"
     ]
    }
   ],
   "source": [
    "# 74.  Write a Python function to calculate the factorial of a number (a nonnegative integer).\n",
    "\n",
    "def factorial(n):\n",
    "    if n < 0:\n",
    "        return \"Factorial is not defined for negative numbers\"\n",
    "    elif n == 0 or n == 1:\n",
    "        return 1\n",
    "    else:\n",
    "        fact = 1\n",
    "        for i in range(2,n+1):\n",
    "            fact = fact * i\n",
    "        return fact\n",
    "number = 5\n",
    "result = factorial(number)\n",
    "print(f\"Factorial of {number} is: {result}\")"
   ]
  },
  {
   "cell_type": "code",
   "execution_count": 12,
   "id": "34502ebc",
   "metadata": {},
   "outputs": [
    {
     "name": "stdout",
     "output_type": "stream",
     "text": [
      "Enter number: 5\n",
      "1\n",
      "2\n",
      "6\n",
      "24\n",
      "120\n"
     ]
    }
   ],
   "source": [
    "# with for loop:\n",
    "\n",
    "n = int(input(\"Enter number: \"))\n",
    "fact = 1\n",
    "for i in range(1, n+1):\n",
    "    if n < 0:\n",
    "        print(\"Factorial is not defined for negative numbers \")\n",
    "    else:\n",
    "        fact = fact * i\n",
    "        \n",
    "    print(fact)"
   ]
  },
  {
   "cell_type": "code",
   "execution_count": 17,
   "id": "a7a667fb",
   "metadata": {},
   "outputs": [
    {
     "name": "stdout",
     "output_type": "stream",
     "text": [
      "Number is in range\n"
     ]
    }
   ],
   "source": [
    "# 75. Write a Python function to check whether a number is in a given range.\n",
    "\n",
    "def check_range(n):\n",
    "    \n",
    "    if n in range(2,20):\n",
    "        print(\"Number is in range\")\n",
    "    else:\n",
    "        print(\"Number is out of range\")\n",
    "\n",
    "check_range(5)"
   ]
  },
  {
   "cell_type": "code",
   "execution_count": 9,
   "id": "e412b3cc",
   "metadata": {},
   "outputs": [
    {
     "name": "stdout",
     "output_type": "stream",
     "text": [
      "True\n"
     ]
    }
   ],
   "source": [
    "# 76. Write a Python function to check whether a number is perfect or not.\n",
    "\n",
    "def perfact_num(n):\n",
    "    \n",
    "    sum = 0\n",
    "    \n",
    "    for i in range(1, n):\n",
    "        if n % i == 0:\n",
    "            sum = sum + i\n",
    "    return sum == n\n",
    "\n",
    "print(perfact_num(6))"
   ]
  },
  {
   "cell_type": "code",
   "execution_count": 3,
   "id": "5105b3f3",
   "metadata": {},
   "outputs": [
    {
     "name": "stdout",
     "output_type": "stream",
     "text": [
      "Enter the string: kayak\n",
      "Entered string is Palindrome\n"
     ]
    }
   ],
   "source": [
    "# 77. Write a Python function that checks whether a passed string is palindrome or not.  \n",
    "\n",
    "my_string = input(\"Enter the string: \")\n",
    "mid_value = int(len(my_string)/2)\n",
    "\n",
    "if(len(my_string) % 2 == 0):\n",
    "    first_string = my_string[:mid_value]\n",
    "    last_string = my_string[mid_value:]\n",
    "else:\n",
    "    first_string = my_string[:mid_value]\n",
    "    last_string = my_string[mid_value + 1 :]\n",
    "    \n",
    "if first_string == last_string[: : -1]:\n",
    "    print(\"Entered string is Palindrome\")\n",
    "else:\n",
    "    print(\"Entered string is not Palindrome\")"
   ]
  },
  {
   "cell_type": "markdown",
   "id": "a0aba6a7",
   "metadata": {},
   "source": [
    "78.How Many Basic Types Of Functions Are Available In Python? \n",
    "\n",
    "Ans : In Python there are three basic type of functions:\n",
    "    \n",
    "    1. Built-In Function: \n",
    "        * There are functions that already defined in python and are part of its standard library.\n",
    "        * Example includes : print(), len(), input(), and many others.\n",
    "    2. User-Defined Functions:\n",
    "        * These are functions creating by the user to perform a specific task. \n",
    "        * You can defined your function using 'def' keyword.\n",
    "        * Example:\n",
    "            def add_numbers(a,b):\n",
    "                return a + b\n",
    "    3. Anonymouse Functions(Lambda Functions):\n",
    "        * These are small, one-line functions defined using 'lambda' keyword.\n",
    "        * There are often use for short-term operations.\n",
    "        * Example:\n",
    "            add = lambda x,y: x+y\n",
    "        \n",
    "        "
   ]
  },
  {
   "cell_type": "code",
   "execution_count": 10,
   "id": "0601ab8d",
   "metadata": {},
   "outputs": [
    {
     "data": {
      "text/plain": [
       "'grape'"
      ]
     },
     "execution_count": 10,
     "metadata": {},
     "output_type": "execute_result"
    }
   ],
   "source": [
    "# 79. How can you pick a random item from a list or tuple?\n",
    "import random\n",
    "\n",
    "my_tuple = ('apple', 'banana', 'orange', 'grape', 'kiwi')\n",
    "\n",
    "\n",
    "\n",
    "random.choice(my_tuple)"
   ]
  },
  {
   "cell_type": "code",
   "execution_count": 11,
   "id": "ab5572d6",
   "metadata": {},
   "outputs": [
    {
     "data": {
      "text/plain": [
       "4"
      ]
     },
     "execution_count": 11,
     "metadata": {},
     "output_type": "execute_result"
    }
   ],
   "source": [
    "# 80. How can you pick a random item from a range?\n",
    "\n",
    "import random\n",
    "\n",
    "random.randrange(1,50)"
   ]
  },
  {
   "cell_type": "code",
   "execution_count": 14,
   "id": "fbb1681b",
   "metadata": {},
   "outputs": [
    {
     "name": "stdout",
     "output_type": "stream",
     "text": [
      "0.7605250390035001\n",
      "10\n"
     ]
    }
   ],
   "source": [
    "# 81.  How can you get a random number in python? \n",
    "\n",
    "import random\n",
    "\n",
    "random_float = random.random()\n",
    "print(random_float)\n",
    "\n",
    "random_int = random.randint(1,15)\n",
    "print(random_int)"
   ]
  },
  {
   "cell_type": "code",
   "execution_count": 22,
   "id": "38ce6e22",
   "metadata": {},
   "outputs": [
    {
     "data": {
      "text/plain": [
       "28"
      ]
     },
     "execution_count": 22,
     "metadata": {},
     "output_type": "execute_result"
    }
   ],
   "source": [
    "# 82. How will you set the starting value in generating random numbers? \n",
    "\n",
    "import random\n",
    "\n",
    "random.randint(10,30)\n",
    "\n"
   ]
  },
  {
   "cell_type": "code",
   "execution_count": 19,
   "id": "3fa2940b",
   "metadata": {},
   "outputs": [
    {
     "name": "stdout",
     "output_type": "stream",
     "text": [
      "Shuffled list :  [4, 3, 2, 1, 5]\n"
     ]
    }
   ],
   "source": [
    "# 83. How will you randomizes the items of a list in place? \n",
    "\n",
    "my_list = [1,2,3,4,5]\n",
    "\n",
    "random.shuffle(my_list)\n",
    "\n",
    "print(\"Shuffled list : \",my_list)"
   ]
  },
  {
   "cell_type": "code",
   "execution_count": null,
   "id": "77ca704f",
   "metadata": {},
   "outputs": [],
   "source": [
    "# 84. Write a Python program to read a random line from a file.\n",
    "\n",
    "import random\n",
    "\n",
    "lines = open('intro.txt').read().splitlines()\n",
    "myline = random.choice(lines)\n",
    "print(mylines)\n"
   ]
  },
  {
   "cell_type": "code",
   "execution_count": 20,
   "id": "4b3cf739",
   "metadata": {},
   "outputs": [
    {
     "name": "stdout",
     "output_type": "stream",
     "text": [
      "Enter the angle in degrees: 90\n",
      "1.5707963267948966\n"
     ]
    }
   ],
   "source": [
    "# 85.  Write a Python program to convert degree to radian.\n",
    "\n",
    "import math\n",
    "\n",
    "def degree_to_redian(degree):\n",
    "    redians = degree * (math.pi/180)\n",
    "    return redians\n",
    "\n",
    "input_degree = float(input(\"Enter the angle in degrees: \"))\n",
    "output_redians = degree_to_redian(input_degree)\n",
    "\n",
    "print(output_redians)"
   ]
  },
  {
   "cell_type": "code",
   "execution_count": 24,
   "id": "d29d70cf",
   "metadata": {},
   "outputs": [
    {
     "name": "stdout",
     "output_type": "stream",
     "text": [
      "Enter base one value: 25\n",
      "Enter base secound value: 35\n",
      "Enter height of trapezoid: 45\n",
      "Area is  1350.0\n"
     ]
    }
   ],
   "source": [
    "# 86. Write a Python program to calculate the area of a trapezoid.\n",
    "\n",
    "a = float(input('Enter base one value: '))\n",
    "b = float(input('Enter base secound value: '))\n",
    "h = float(input('Enter height of trapezoid: '))\n",
    "\n",
    "area = ((a + b)/2) * h\n",
    "print(\"Area is \", area)"
   ]
  },
  {
   "cell_type": "code",
   "execution_count": 25,
   "id": "a0862d9d",
   "metadata": {},
   "outputs": [
    {
     "name": "stdout",
     "output_type": "stream",
     "text": [
      "Enter base: 78\n",
      "Enter height: 85\n",
      "6630.0\n"
     ]
    }
   ],
   "source": [
    "# 87.  Write a Python program to calculate the area of a parallelogram.\n",
    "\n",
    "base = float(input(\"Enter base: \"))\n",
    "height = float(input(\"Enter height: \"))\n",
    "\n",
    "area = base * height\n",
    "\n",
    "print(area)"
   ]
  },
  {
   "cell_type": "code",
   "execution_count": 26,
   "id": "f5ff5c86",
   "metadata": {},
   "outputs": [
    {
     "name": "stdout",
     "output_type": "stream",
     "text": [
      "Height of cylinder: 170\n",
      "Radius of cylinder: 345\n",
      "Volume is:  63593357.14285714\n",
      "Surface Area is:  1116814.2857142857\n"
     ]
    }
   ],
   "source": [
    "# 88. Write a Python program to calculate surface volume and area of a cylinder.\n",
    "\n",
    "import math\n",
    "\n",
    "pi=22/7\n",
    "height = float(input('Height of cylinder: '))\n",
    "radian = float(input('Radius of cylinder: '))\n",
    "\n",
    "volume = pi * radian * radian * height\n",
    "\n",
    "sur_area = ((2*pi*radian) * height) + ((pi*radian**2)*2)\n",
    "\n",
    "print(\"Volume is: \", volume)\n",
    "print(\"Surface Area is: \", sur_area)\n"
   ]
  },
  {
   "cell_type": "code",
   "execution_count": 3,
   "id": "bb4c2c93",
   "metadata": {},
   "outputs": [
    {
     "name": "stdout",
     "output_type": "stream",
     "text": [
      "Enter number: 16\n",
      "Divisors sum of the entered number:  31\n"
     ]
    }
   ],
   "source": [
    "# 89.  Write a Python program to returns sum of all divisors of a number.\n",
    "\n",
    "num = int(input(\"Enter number: \"))\n",
    "\n",
    "divisors_sum = 0\n",
    "\n",
    "for i in range(1,num + 1):\n",
    "    if num % i == 0:\n",
    "        divisors_sum = divisors_sum + i\n",
    "print(\"Divisors sum of the entered number: \", divisors_sum)\n"
   ]
  },
  {
   "cell_type": "code",
   "execution_count": 6,
   "id": "f0213cfb",
   "metadata": {},
   "outputs": [
    {
     "name": "stdout",
     "output_type": "stream",
     "text": [
      "9.56\n",
      "1.45\n"
     ]
    }
   ],
   "source": [
    "# 90. Write a Python program to find the maximum and minimum numbers from the specified decimal numbers.\n",
    "\n",
    "ls = [2.4, 7.10, 9.56, 1.45, 6.89, 5.68]\n",
    "\n",
    "max_num = ls[0]\n",
    "min_num = ls[0]\n",
    "\n",
    "for num in ls:\n",
    "    if num > max_num:\n",
    "        max_num = num\n",
    "    elif num < min_num:\n",
    "        min_num = num\n",
    "print(max_num)\n",
    "print(min_num)"
   ]
  }
 ],
 "metadata": {
  "kernelspec": {
   "display_name": "Python 3 (ipykernel)",
   "language": "python",
   "name": "python3"
  },
  "language_info": {
   "codemirror_mode": {
    "name": "ipython",
    "version": 3
   },
   "file_extension": ".py",
   "mimetype": "text/x-python",
   "name": "python",
   "nbconvert_exporter": "python",
   "pygments_lexer": "ipython3",
   "version": "3.11.5"
  }
 },
 "nbformat": 4,
 "nbformat_minor": 5
}
